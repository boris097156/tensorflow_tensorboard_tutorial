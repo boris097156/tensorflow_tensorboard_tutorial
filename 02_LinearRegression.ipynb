{
 "cells": [
  {
   "cell_type": "code",
   "execution_count": 1,
   "metadata": {},
   "outputs": [
    {
     "data": {
      "text/plain": [
       "[<matplotlib.lines.Line2D at 0x11c1a1c18>]"
      ]
     },
     "execution_count": 1,
     "metadata": {},
     "output_type": "execute_result"
    },
    {
     "data": {
      "image/png": "[encoded data removed]",
      "text/plain": [
       "<matplotlib.figure.Figure at 0x107c52f60>"
      ]
     },
     "metadata": {},
     "output_type": "display_data"
    }
   ],
   "source": [
    "import os\n",
    "import tensorflow as tf\n",
    "import numpy as np\n",
    "import matplotlib.pyplot as plt\n",
    "#Make sure to add the following line for using jupyter notebook\n",
    "%matplotlib inline\n",
    "\n",
    "tb_logdir = \"/tmp/tf_tutorial/02_LinearRegression\"\n",
    "\n",
    "#Data parameters\n",
    "n_samples = 30\n",
    "data_W = 2.66\n",
    "data_B = 0.13\n",
    "\n",
    "#Generate data using numpy\n",
    "data_X = (np.linspace(0, 20, n_samples, dtype='float32'))\n",
    "data_Y = (data_W*data_X + data_B).astype('float32') + np.random.normal(0, 3, n_samples)\n",
    "plt.plot(data_X, data_Y, 'r.', label='Original data')"
   ]
  },
  {
   "cell_type": "code",
   "execution_count": 2,
   "metadata": {},
   "outputs": [],
   "source": [
    "#Training parameters\n",
    "learning_rate = 1e-3\n",
    "total_epochs = 100\n",
    "\n",
    "X = tf.placeholder(tf.float32, name='X')\n",
    "Y = tf.placeholder(tf.float32, name='Y')\n",
    "W = tf.Variable(1.0, name='weight')\n",
    "b = tf.Variable(1.0, name='bias')\n",
    "\n",
    "#name scopes are for tensorboard visualization\n",
    "with tf.name_scope(\"Model\"):\n",
    "    predict_Y = W*X+b\n",
    "with tf.name_scope(\"Loss\"):\n",
    "    loss = tf.reduce_sum(tf.square(predict_Y-Y)/n_samples, name='loss')\n",
    "with tf.name_scope(\"SGD\"):\n",
    "    optimizer = tf.train.GradientDescentOptimizer(learning_rate).minimize(loss)\n",
    "\n",
    "#must initialize all variables beforehand\n",
    "init = tf.global_variables_initializer()\n",
    "#add loss scalar to tensorboard\n",
    "tf.summary.scalar(\"loss_summary\", loss)\n",
    "#merge all tensorboard operations to one, so later we can simply call merged_summary_op for every summary operations.\n",
    "merged_summary_op = tf.summary.merge_all()"
   ]
  },
  {
   "cell_type": "code",
   "execution_count": 3,
   "metadata": {
    "scrolled": true
   },
   "outputs": [
    {
     "name": "stdout",
     "output_type": "stream",
     "text": [
      "epoch 0 182.39218139648438\n",
      "epoch 1 100.49810028076172\n",
      "epoch 2 57.18356704711914\n",
      "epoch 98 8.48425579071045\n",
      "epoch 99 8.483558654785156\n",
      "Training Complete!\n",
      "Final loss: 8.483558654785156\n",
      "Predicted W: 2.55  data_W: 2.66\n",
      "Predicted B: 1.03  data_B: 0.13\n"
     ]
    },
    {
     "data": {
      "image/png": "[encoded data removed]",
      "text/plain": [
       "<matplotlib.figure.Figure at 0x11cb2a128>"
      ]
     },
     "metadata": {},
     "output_type": "display_data"
    },
    {
     "name": "stdout",
     "output_type": "stream",
     "text": [
      "Starting tensorboard... \n",
      "Open http://0.0.0.0:6006/ for viewing.\n"
     ]
    },
    {
     "data": {
      "text/plain": [
       "0"
      ]
     },
     "execution_count": 3,
     "metadata": {},
     "output_type": "execute_result"
    }
   ],
   "source": [
    "with tf.Session() as sess:\n",
    "    #Running global_variables_initializer()\n",
    "    sess.run(init)\n",
    "    #Setting where to save the tensorboard data.\n",
    "    train_writer = tf.summary.FileWriter(tb_logdir, graph=tf.get_default_graph())\n",
    "    for epoch in range(total_epochs):\n",
    "        #Running multi operations at once that uses same data.\n",
    "        #merged_summary_op returns a summary while optimizer returns None.\n",
    "        summary, o = sess.run([merged_summary_op, optimizer], feed_dict={X:data_X, Y:data_Y})\n",
    "        train_writer.add_summary(summary, epoch)\n",
    "        if (epoch < 3 or epoch > total_epochs - 3):\n",
    "            print(\"epoch {} {}\".format(epoch, sess.run(loss, feed_dict={X:data_X, Y:data_Y})))\n",
    "    print(\"Training Complete!\")\n",
    "    print(\"Final loss: {}\".format(sess.run(loss, feed_dict={X:data_X, Y:data_Y})))\n",
    "    print(\"Predicted W: {:.2f}  data_W: {}\".format(sess.run(W), data_W))\n",
    "    print(\"Predicted B: {:.2f}  data_B: {}\".format(sess.run(b), data_B))\n",
    "    plt.plot(data_X, data_Y, 'r.', label='Original data')\n",
    "    plt.plot(data_X, sess.run(W)*data_X+sess.run(b), label='Prediction line')\n",
    "    plt.legend()\n",
    "    plt.show()\n",
    "\n",
    "print(\"Starting tensorboard...\")\n",
    "print(\"Open http://0.0.0.0:6006/ for viewing.\")\n",
    "os.system(\"tensorboard --logdir={}\".format(tb_logdir))\n",
    "#Notice that multiple summary events may cause chaos on tensorboard, you can simple delete the old events."
   ]
  },
  {
   "cell_type": "code",
   "execution_count": null,
   "metadata": {},
   "outputs": [],
   "source": []
  }
 ],
 "metadata": {
  "kernelspec": {
   "display_name": "Python 3",
   "language": "python",
   "name": "python3"
  },
  "language_info": {
   "codemirror_mode": {
    "name": "ipython",
    "version": 3
   },
   "file_extension": ".py",
   "mimetype": "text/x-python",
   "name": "python",
   "nbconvert_exporter": "python",
   "pygments_lexer": "ipython3",
   "version": "3.6.2"
  }
 },
 "nbformat": 4,
 "nbformat_minor": 2
}
