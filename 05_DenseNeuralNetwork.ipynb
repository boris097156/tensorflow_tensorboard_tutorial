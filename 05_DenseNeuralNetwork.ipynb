{
 "cells": [
  {
   "cell_type": "code",
   "execution_count": 1,
   "metadata": {},
   "outputs": [
    {
     "name": "stdout",
     "output_type": "stream",
     "text": [
      "Extracting /tmp/data/train-images-idx3-ubyte.gz\n",
      "Extracting /tmp/data/train-labels-idx1-ubyte.gz\n",
      "Extracting /tmp/data/t10k-images-idx3-ubyte.gz\n",
      "Extracting /tmp/data/t10k-labels-idx1-ubyte.gz\n"
     ]
    }
   ],
   "source": [
    "import os\n",
    "import tensorflow as tf\n",
    "from tensorflow.examples.tutorials.mnist import input_data\n",
    "mnist = input_data.read_data_sets(\"/tmp/data/\", one_hot=True)\n",
    "\n",
    "tb_logdir = \"/tmp/tf_tutorial/05_DenseNeuralNetwork\"\n",
    "\n",
    "#Data parameters\n",
    "image_size = 28*28\n",
    "n_class = 10"
   ]
  },
  {
   "cell_type": "code",
   "execution_count": 2,
   "metadata": {},
   "outputs": [],
   "source": [
    "#Trainin parameters\n",
    "learning_rate = 0.1\n",
    "total_steps = 1000\n",
    "batch_size = 100\n",
    "\n",
    "X = tf.placeholder(tf.float32, shape=[None, image_size], name='InputImage')\n",
    "Y = tf.placeholder(tf.float32, shape=[None, n_class], name='Label')"
   ]
  },
  {
   "cell_type": "code",
   "execution_count": 3,
   "metadata": {},
   "outputs": [],
   "source": [
    "#Two ways of having a dense layer.\n",
    "def neural_net_raw(self, shape, scope):\n",
    "    with tf.name_scope(scope):\n",
    "        W = tf.Variable(tf.random_normal(shape, dtype=tf.float32), name='weight')\n",
    "        b = tf.Variable(tf.random_normal([shape[1]]), name='bias')\n",
    "        self = tf.add(tf.matmul(self, W), b)\n",
    "    return self\n",
    "\n",
    "def neural_net(self, units, scope):\n",
    "    self = tf.layers.dense(self, units=units, name=scope)\n",
    "    return self"
   ]
  },
  {
   "cell_type": "code",
   "execution_count": 4,
   "metadata": {},
   "outputs": [],
   "source": [
    "with tf.name_scope('Model'):\n",
    "    dense_net = neural_net_raw(X, (image_size, 128), 'layer_1')\n",
    "    dense_net = neural_net(dense_net, 256, 'layer_2')\n",
    "    dense_net = neural_net(dense_net, n_class, 'layer_3')"
   ]
  },
  {
   "cell_type": "code",
   "execution_count": 5,
   "metadata": {},
   "outputs": [],
   "source": [
    "with tf.name_scope('Loss'):\n",
    "    loss_op = tf.reduce_mean(tf.nn.softmax_cross_entropy_with_logits(logits=dense_net, labels=Y))\n",
    "with tf.name_scope(\"Adam\"):\n",
    "    optimizer = tf.train.AdamOptimizer(learning_rate=learning_rate)\n",
    "    train_op = optimizer.minimize(loss_op)\n",
    "with tf.name_scope('Accuracy'):\n",
    "    correct_pred =  tf.equal(tf.argmax(dense_net, 1), tf.argmax(Y, 1))\n",
    "    accuracy = tf.reduce_mean(tf.cast(correct_pred, tf.float32))\n",
    "    \n",
    "init = tf.global_variables_initializer()\n",
    "input_image = tf.reshape(X, [-1, 28, 28, 1])\n",
    "tf.summary.image(\"input_image\", input_image)\n",
    "tf.summary.scalar('loss', loss_op)\n",
    "tf.summary.scalar('accuracy', accuracy)\n",
    "merge_summary_op = tf.summary.merge_all()"
   ]
  },
  {
   "cell_type": "code",
   "execution_count": 6,
   "metadata": {},
   "outputs": [
    {
     "name": "stdout",
     "output_type": "stream",
     "text": [
      "step: 0  accuracy:10.00%\n",
      "step: 100  accuracy:71.00%\n",
      "step: 200  accuracy:86.00%\n",
      "step: 300  accuracy:88.00%\n",
      "step: 400  accuracy:81.00%\n",
      "step: 500  accuracy:83.00%\n",
      "step: 600  accuracy:84.00%\n",
      "step: 700  accuracy:78.00%\n",
      "step: 800  accuracy:77.00%\n",
      "step: 900  accuracy:76.00%\n",
      "Training Complete!\n",
      "Final Training acc:80.58%\n",
      "Testing acc       :76.60%\n"
     ]
    }
   ],
   "source": [
    "with tf.Session() as sess:\n",
    "    sess.run(init)\n",
    "    train_writer = tf.summary.FileWriter(tb_logdir, graph=tf.get_default_graph())\n",
    "    for step in range(total_steps):\n",
    "        batch_x, batch_y = mnist.train.next_batch(batch_size)\n",
    "        summary, acc, _ = sess.run([merge_summary_op, accuracy, train_op], feed_dict={X:batch_x, Y:batch_y})\n",
    "        train_writer.add_summary(summary, step)\n",
    "        if step%100 == 0:\n",
    "            print(\"step: {}  accuracy:{:.2f}%\".format(step, acc*100))\n",
    "    print('Training Complete!')\n",
    "    train_acc = sess.run(accuracy, feed_dict={X:mnist.train.images, Y:mnist.train.labels})\n",
    "    print(\"Final Training acc:{:.2f}%\".format(train_acc*100))\n",
    "    test_acc = sess.run(accuracy, feed_dict={X:mnist.test.images[:3000], Y:mnist.test.labels[:3000]})\n",
    "    print(\"Testing acc       :{:.2f}%\".format(test_acc*100))"
   ]
  }
 ],
 "metadata": {
  "kernelspec": {
   "display_name": "Python 3",
   "language": "python",
   "name": "python3"
  },
  "language_info": {
   "codemirror_mode": {
    "name": "ipython",
    "version": 3
   },
   "file_extension": ".py",
   "mimetype": "text/x-python",
   "name": "python",
   "nbconvert_exporter": "python",
   "pygments_lexer": "ipython3",
   "version": "3.6.2"
  }
 },
 "nbformat": 4,
 "nbformat_minor": 2
}
