{
 "cells": [
  {
   "cell_type": "code",
   "execution_count": 1,
   "metadata": {},
   "outputs": [
    {
     "name": "stdout",
     "output_type": "stream",
     "text": [
      "Extracting /tmp/data/train-images-idx3-ubyte.gz\n",
      "Extracting /tmp/data/train-labels-idx1-ubyte.gz\n",
      "Extracting /tmp/data/t10k-images-idx3-ubyte.gz\n",
      "Extracting /tmp/data/t10k-labels-idx1-ubyte.gz\n",
      "Total size of 55000 training data\n"
     ]
    }
   ],
   "source": [
    "import os\n",
    "import tensorflow as tf\n",
    "#download mnist data to /tmp/data/\n",
    "from tensorflow.examples.tutorials.mnist import input_data\n",
    "mnist = input_data.read_data_sets(\"/tmp/data/\", one_hot=True)\n",
    "print(\"Total size of {} training data\".format(int(mnist.train.num_examples)))\n",
    "\n",
    "tb_logdir = \"/tmp/tf_tutorial/03_LogisticRegression\"\n",
    "\n",
    "#Data parameters\n",
    "image_size = 28*28\n",
    "n_class = 10"
   ]
  },
  {
   "cell_type": "code",
   "execution_count": 2,
   "metadata": {},
   "outputs": [],
   "source": [
    "#Training parameters\n",
    "learning_rate = 1e-2\n",
    "total_epochs = 30\n",
    "batch_size = 100\n",
    "\n",
    "#names are for tensorboard.\n",
    "x = tf.placeholder(tf.float32, [None, image_size], name='InputImage')\n",
    "y = tf.placeholder(tf.float32, [None, n_class], name='Label')\n",
    "W = tf.Variable(tf.zeros([image_size, n_class]), name='Weight')\n",
    "b = tf.Variable(tf.zeros([n_class]), name='Bias')"
   ]
  },
  {
   "cell_type": "code",
   "execution_count": 3,
   "metadata": {},
   "outputs": [],
   "source": [
    "with tf.name_scope(\"Model\"):\n",
    "    pred_y = tf.nn.sigmoid(tf.matmul(x, W) + b)\n",
    "with tf.name_scope(\"Loss\"):\n",
    "    loss = tf.reduce_mean(-tf.reduce_sum(y*tf.log(pred_y), reduction_indices=1))\n",
    "with tf.name_scope(\"SGD\"):\n",
    "    optimizer = tf.train.GradientDescentOptimizer(learning_rate).minimize(loss)\n",
    "with tf.name_scope(\"Accuracy\"):\n",
    "    correct = tf.equal(tf.argmax(pred_y, 1), tf.argmax(y, 1))\n",
    "    accuracy = tf.reduce_mean(tf.cast(correct, tf.float32))\n",
    "    \n",
    "init = tf.global_variables_initializer()\n",
    "#Adding image summary for input image, which requires a 4D shape.\n",
    "input_image = tf.reshape(x, [-1, 28, 28, 1])\n",
    "tf.summary.image(\"input_image\", input_image)\n",
    "tf.summary.scalar(\"loss_summary\", loss)\n",
    "merged_summary_op = tf.summary.merge_all()"
   ]
  },
  {
   "cell_type": "code",
   "execution_count": null,
   "metadata": {},
   "outputs": [
    {
     "name": "stdout",
     "output_type": "stream",
     "text": [
      "Epoch 00  Average loss: 0.15464\n",
      "Epoch 05  Average loss: 0.01177\n",
      "Epoch 10  Average loss: 0.00657\n",
      "Epoch 15  Average loss: 0.00463\n",
      "Epoch 20  Average loss: 0.00360\n",
      "Epoch 25  Average loss: 0.00296\n"
     ]
    }
   ],
   "source": [
    "with tf.Session() as sess:\n",
    "    sess.run(init)\n",
    "    train_writer = tf.summary.FileWriter(tb_logdir, graph=tf.get_default_graph())\n",
    "    for epoch in range(total_epochs):\n",
    "        sum_loss = 0\n",
    "        total_batch = int(mnist.train.num_examples/batch_size)\n",
    "        for batch in range(total_batch):\n",
    "            batch_x, batch_y = mnist.train.next_batch(batch_size)\n",
    "            summary, _, l = sess.run([merged_summary_op, optimizer, loss], feed_dict={x:batch_x, y:batch_y})\n",
    "            train_writer.add_summary(summary, epoch*total_batch+batch)\n",
    "            sum_loss += l\n",
    "        avg_loss = sum_loss/total_batch\n",
    "        if epoch%5 == 0:\n",
    "            print(\"Epoch {:02}  Average loss: {:.5f}\".format(epoch, avg_loss))\n",
    "    print(\"Training Complete!\")\n",
    "    train_loss, train_acc = sess.run([loss, accuracy], feed_dict={x:mnist.train.images, y:mnist.train.labels})\n",
    "    print(\"Final Training loss: {:.5f}   acc:{:.2f}%\".format(train_loss, train_acc*100))\n",
    "    test_loss, test_acc = sess.run([loss, accuracy], feed_dict={x:mnist.test.images[:3000], y:mnist.test.labels[:3000]})\n",
    "    print(\"Testing loss:        {:.5f}   acc:{:.2f}%\".format(test_loss, test_acc*100))\n",
    "    \n",
    "#You can also open tensoboard through terminal beforehand to make sure correctness.\n",
    "#(e.g. whetherthe loss is reducing, correct input image...)\n",
    "print(\"Starting tensorboard...\")\n",
    "print(\"Open http://0.0.0.0:6006/ for viewing.\")\n",
    "os.system(\"tensorboard --logdir={}\".format(tb_logdir))"
   ]
  },
  {
   "cell_type": "code",
   "execution_count": null,
   "metadata": {},
   "outputs": [],
   "source": []
  }
 ],
 "metadata": {
  "kernelspec": {
   "display_name": "Python 3",
   "language": "python",
   "name": "python3"
  },
  "language_info": {
   "codemirror_mode": {
    "name": "ipython",
    "version": 3
   },
   "file_extension": ".py",
   "mimetype": "text/x-python",
   "name": "python",
   "nbconvert_exporter": "python",
   "pygments_lexer": "ipython3",
   "version": "3.6.2"
  }
 },
 "nbformat": 4,
 "nbformat_minor": 2
}
