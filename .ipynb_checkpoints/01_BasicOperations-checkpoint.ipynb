{
 "cells": [
  {
   "cell_type": "code",
   "execution_count": 1,
   "metadata": {
    "scrolled": true
   },
   "outputs": [
    {
     "name": "stdout",
     "output_type": "stream",
     "text": [
      "a: Tensor(\"Const:0\", shape=(), dtype=int32)\n",
      "a: 2\n",
      "a: 2\n",
      "a+b: 5\n",
      "a+b: 5\n"
     ]
    }
   ],
   "source": [
    "import tensorflow as tf\n",
    "a = tf.constant(2)\n",
    "b = tf.constant(3)\n",
    "add = tf.add(a, b)\n",
    "with tf.Session() as sess:\n",
    "    print(\"a: {}\".format(a))\n",
    "    print(\"a: {}\".format(sess.run(a)))\n",
    "    print(\"a: {}\".format(a.eval()))\n",
    "    print(\"a+b: {}\".format(sess.run(a+b)))\n",
    "    print(\"a+b: {}\".format(sess.run(add)))"
   ]
  },
  {
   "cell_type": "code",
   "execution_count": 31,
   "metadata": {},
   "outputs": [
    {
     "name": "stdout",
     "output_type": "stream",
     "text": [
      "a: Tensor(\"Placeholder_14:0\", dtype=int16)\n",
      "Addition with variables: 5\n",
      "Multiply with variables: 6\n"
     ]
    }
   ],
   "source": [
    "a = tf.placeholder(tf.int16)\n",
    "b = tf.placeholder(tf.int16)\n",
    "add = tf.add(a, b)\n",
    "mul = tf.multiply(a, b)\n",
    "with tf.Session() as sess:\n",
    "    print(\"a: {}\".format(a))\n",
    "    print(\"Addition with variables: {}\".format(sess.run(add, feed_dict={a:3, b:2})))\n",
    "    print(\"Multiply with variables: {}\".format(sess.run(mul, feed_dict={a:3, b:2})))"
   ]
  },
  {
   "cell_type": "code",
   "execution_count": 38,
   "metadata": {},
   "outputs": [
    {
     "name": "stdout",
     "output_type": "stream",
     "text": [
      "A: Tensor(\"Const_33:0\", shape=(1, 2), dtype=float32)\n",
      "A: [[3. 3.]]\n",
      "[[12.]]\n"
     ]
    }
   ],
   "source": [
    "A = tf.constant([[3., 3.]])\n",
    "B = tf.constant([[2.],[2.]])\n",
    "product = tf.matmul(A, B)\n",
    "with tf.Session() as sess:\n",
    "    print(\"A: {}\".format(A))\n",
    "    print(\"A: {}\".format(sess.run(A)))\n",
    "    result = sess.run(product)\n",
    "    print(result)"
   ]
  },
  {
   "cell_type": "code",
   "execution_count": null,
   "metadata": {},
   "outputs": [],
   "source": []
  }
 ],
 "metadata": {
  "kernelspec": {
   "display_name": "Python 3",
   "language": "python",
   "name": "python3"
  },
  "language_info": {
   "codemirror_mode": {
    "name": "ipython",
    "version": 3
   },
   "file_extension": ".py",
   "mimetype": "text/x-python",
   "name": "python",
   "nbconvert_exporter": "python",
   "pygments_lexer": "ipython3",
   "version": "3.6.2"
  }
 },
 "nbformat": 4,
 "nbformat_minor": 2
}
