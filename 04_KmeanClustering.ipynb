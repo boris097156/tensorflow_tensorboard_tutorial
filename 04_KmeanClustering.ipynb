{
 "cells": [
  {
   "cell_type": "code",
   "execution_count": 1,
   "metadata": {},
   "outputs": [],
   "source": [
    "import numpy as np\n",
    "import tensorflow as tf\n",
    "from tensorflow.contrib.factorization import KMeans"
   ]
  },
  {
   "cell_type": "code",
   "execution_count": 2,
   "metadata": {},
   "outputs": [
    {
     "name": "stdout",
     "output_type": "stream",
     "text": [
      "Extracting /tmp/data/train-images-idx3-ubyte.gz\n",
      "Extracting /tmp/data/train-labels-idx1-ubyte.gz\n",
      "Extracting /tmp/data/t10k-images-idx3-ubyte.gz\n",
      "Extracting /tmp/data/t10k-labels-idx1-ubyte.gz\n"
     ]
    }
   ],
   "source": [
    "from tensorflow.examples.tutorials.mnist import input_data\n",
    "mnist = input_data.read_data_sets(\"/tmp/data/\", one_hot=True)\n",
    "data_X = mnist.train.images"
   ]
  },
  {
   "cell_type": "code",
   "execution_count": 3,
   "metadata": {},
   "outputs": [],
   "source": [
    "#Data parameters\n",
    "image_size = 28*28\n",
    "n_class = 10\n",
    "\n",
    "#Training parameters\n",
    "n_cluster = 25\n",
    "total_epochs = 50\n",
    "\n",
    "X = tf.placeholder(tf.float32, shape=[None, image_size], name='InputImage')\n",
    "Y = tf.placeholder(tf.float32, shape=[None, n_class], name=\"Label\")\n",
    "with tf.name_scope(\"Kmeans\"):\n",
    "    kmeans = KMeans(inputs=X, num_clusters=n_cluster, distance_metric='squared_euclidean', use_mini_batch=True)\n",
    "    all_scores, cluster_idx, scores, cluster_centers_initialized, init_op, train_op = kmeans.training_graph()\n",
    "    cluster_idx = cluster_idx[0]\n",
    "    avg_distance = tf.reduce_mean(scores)\n",
    "\n",
    "init = tf.global_variables_initializer()"
   ]
  },
  {
   "cell_type": "code",
   "execution_count": 4,
   "metadata": {},
   "outputs": [
    {
     "name": "stdout",
     "output_type": "stream",
     "text": [
      "Test Accuracy: 0.6963\n"
     ]
    }
   ],
   "source": [
    "with tf.Session() as sess:\n",
    "    sess.run(init)\n",
    "    sess.run(init_op, feed_dict={X:data_X})\n",
    "    \n",
    "    for i in range(total_epochs):\n",
    "        _, dis, idx = sess.run([train_op, avg_distance, cluster_idx], feed_dict={X: data_X})\n",
    "    \n",
    "    counts = np.zeros(shape=(n_cluster, n_class))\n",
    "    for i in range(len(idx)):\n",
    "        counts[idx[i]] += mnist.train.labels[i]\n",
    "    labels_map = [np.argmax(c) for c in counts]\n",
    "    labels_map = tf.convert_to_tensor(labels_map)\n",
    "\n",
    "    # Evaluation ops\n",
    "    # Lookup: centroid_id -> label\n",
    "    cluster_label = tf.nn.embedding_lookup(labels_map, cluster_idx)\n",
    "    # Compute accuracy\n",
    "    correct_prediction = tf.equal(cluster_label, tf.cast(tf.argmax(Y, 1), tf.int32))\n",
    "    accuracy_op = tf.reduce_mean(tf.cast(correct_prediction, tf.float32))\n",
    "\n",
    "    # Test Model\n",
    "    test_x, test_y = mnist.test.images, mnist.test.labels\n",
    "    print(\"Test Accuracy:\", sess.run(accuracy_op, feed_dict={X: test_x, Y: test_y}))"
   ]
  },
  {
   "cell_type": "code",
   "execution_count": null,
   "metadata": {},
   "outputs": [],
   "source": []
  }
 ],
 "metadata": {
  "kernelspec": {
   "display_name": "Python 3",
   "language": "python",
   "name": "python3"
  },
  "language_info": {
   "codemirror_mode": {
    "name": "ipython",
    "version": 3
   },
   "file_extension": ".py",
   "mimetype": "text/x-python",
   "name": "python",
   "nbconvert_exporter": "python",
   "pygments_lexer": "ipython3",
   "version": "3.6.2"
  }
 },
 "nbformat": 4,
 "nbformat_minor": 2
}
