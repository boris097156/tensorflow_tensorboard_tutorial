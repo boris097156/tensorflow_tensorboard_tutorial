{
 "cells": [
  {
   "cell_type": "code",
   "execution_count": 1,
   "metadata": {},
   "outputs": [],
   "source": [
    "import tensorflow as tf\n",
    "from tensorflow.examples.tutorials.mnist import input_data\n",
    "mnist = input_data.read_data_sets(\"/tmp/data/\", one_hot=True)"
   ]
  },
  {
   "cell_type": "code",
   "execution_count": 2,
   "metadata": {},
   "outputs": [],
   "source": [
    "#Data parameters\n",
    "image_size = 28*28\n",
    "n_class = 10\n",
    "\n",
    "#Train parameters\n",
    "learning_rate = 0.1\n",
    "total_steps = 1000\n",
    "batch_size = 100\n",
    "\n",
    "X = tf.placeholder(tf.float32, [None, image_size], name='InputImage')\n",
    "Y = tf.placeholder(tf.float32, [None, n_class], name='Label')"
   ]
  },
  {
   "cell_type": "code",
   "execution_count": null,
   "metadata": {},
   "outputs": [],
   "source": [
    "def conv_layer(self, filters):\n",
    "    self = tf.nn.conv2d(self, filters=filters, activation='relu')\n",
    "    return self\n",
    "\n",
    "def max_pool_layer(self, shape):\n",
    "    self = tf.nn.max_pool(self, ksize=shape, strides=1)\n",
    "    return self\n",
    "    \n",
    "def build_cnn():\n",
    "    input_layer = tf.reshape(X, [-1, 28, 28, 1])\n",
    "    with tf.name_scope('CNN'):\n",
    "        cnn = conv_layer(input_layer, 64)\n",
    "        cnn = max_pool_layer(cnn)\n",
    "        cnn = conv_layer(cnn, 32)\n",
    "        cnn = max_pool_layer(cnn)\n",
    "    with tf.name_scope('DNN')\n",
    "        \n",
    "    "
   ]
  }
 ],
 "metadata": {
  "kernelspec": {
   "display_name": "Python 3",
   "language": "python",
   "name": "python3"
  },
  "language_info": {
   "codemirror_mode": {
    "name": "ipython",
    "version": 3
   },
   "file_extension": ".py",
   "mimetype": "text/x-python",
   "name": "python",
   "nbconvert_exporter": "python",
   "pygments_lexer": "ipython3",
   "version": "3.6.2"
  }
 },
 "nbformat": 4,
 "nbformat_minor": 2
}
