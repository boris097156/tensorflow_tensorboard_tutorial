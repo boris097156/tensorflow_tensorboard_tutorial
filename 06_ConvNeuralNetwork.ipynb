{
 "cells": [
  {
   "cell_type": "code",
   "execution_count": 1,
   "metadata": {},
   "outputs": [
    {
     "name": "stdout",
     "output_type": "stream",
     "text": [
      "Extracting /tmp/data/train-images-idx3-ubyte.gz\n",
      "Extracting /tmp/data/train-labels-idx1-ubyte.gz\n",
      "Extracting /tmp/data/t10k-images-idx3-ubyte.gz\n",
      "Extracting /tmp/data/t10k-labels-idx1-ubyte.gz\n"
     ]
    }
   ],
   "source": [
    "import tensorflow as tf\n",
    "import numpy as np\n",
    "from tensorflow.examples.tutorials.mnist import input_data\n",
    "mnist = input_data.read_data_sets(\"/tmp/data/\", one_hot=True)\n",
    "\n",
    "tb_logdir = \"/tmp/tf_tutorial/06_ConvNeuralNetwork\"\n",
    "\n",
    "#Data parameters\n",
    "image_size = 28*28\n",
    "n_class = 10"
   ]
  },
  {
   "cell_type": "code",
   "execution_count": 2,
   "metadata": {},
   "outputs": [],
   "source": [
    "#Train parameters\n",
    "learning_rate = 0.1\n",
    "total_steps = 200\n",
    "batch_size = 64\n",
    "conv_filters = [64, 32]\n",
    "dense_units = [128]\n",
    "\n",
    "X = tf.placeholder(tf.float32, [None, image_size], name='InputImage')\n",
    "Y = tf.placeholder(tf.float32, [None, n_class], name='Label')"
   ]
  },
  {
   "cell_type": "code",
   "execution_count": 3,
   "metadata": {},
   "outputs": [],
   "source": [
    "def conv_layer(self, output_ch, filter_size, stride, scope):\n",
    "    with tf.name_scope(scope):\n",
    "        input_ch = int(self.shape[-1])\n",
    "        filters = tf.Variable(tf.random_normal([filter_size, filter_size, input_ch, output_ch]), name='filters')\n",
    "        self = tf.nn.conv2d(self, filters, strides=[1, stride, stride, 1], padding='SAME')\n",
    "        b = tf.Variable(tf.random_normal([output_ch]), name='bias')\n",
    "        self = tf.nn.bias_add(self, b)\n",
    "    return self\n",
    "\n",
    "def maxpool_layer(self, ksize, stride, scope):\n",
    "    with tf.name_scope(scope):\n",
    "        self = tf.nn.max_pool(self, [1, ksize, ksize, 1], [1, stride, stride, 1], padding='SAME')\n",
    "    return self\n",
    "\n",
    "def dense_layer(self, next_units, scope):\n",
    "    with tf.name_scope(scope):\n",
    "        now_units = int(self.shape[1])\n",
    "        W = tf.Variable(tf.random_normal([now_units, next_units], dtype=tf.float32), name='weight')\n",
    "        b = tf.Variable(tf.random_normal([next_units]), name='bias')\n",
    "        self = tf.add(tf.matmul(self, W), b)\n",
    "    return self\n",
    "    \n",
    "def build_cnn(input_layer):\n",
    "    with tf.name_scope('CNN'):\n",
    "        net = conv_layer(input_layer, conv_filters[0], 3, 1, 'Conv_layer1')\n",
    "        net = maxpool_layer(net, 3, 3, 'Max_layer1')\n",
    "        net = conv_layer(net, conv_filters[1], 3, 1, 'Conv_layer2')\n",
    "        net = maxpool_layer(net, 3, 3, 'Max_layer2')\n",
    "    return net\n",
    "\n",
    "def flatten_layer(input_net):\n",
    "    with tf.name_scope('Flatten'):\n",
    "        product = np.prod(np.asarray(input_net.shape.as_list()[1:]))\n",
    "        net = tf.reshape(input_net, [-1, product])\n",
    "    return net\n",
    "        \n",
    "def build_dnn(input_net):\n",
    "    with tf.name_scope('DNN'):\n",
    "        net = dense_layer(input_net, dense_units[0], 'Dense_layer1')\n",
    "        net = dense_layer(net, n_class, 'Dense_layer2')\n",
    "    return net"
   ]
  },
  {
   "cell_type": "code",
   "execution_count": 4,
   "metadata": {},
   "outputs": [],
   "source": [
    "with tf.name_scope('Model'):\n",
    "    input_layer = tf.reshape(X, [-1, 28, 28, 1])\n",
    "    cnn = build_cnn(input_layer)\n",
    "    cnn = flatten_layer(cnn)\n",
    "    fcnn = build_dnn(cnn)"
   ]
  },
  {
   "cell_type": "code",
   "execution_count": 5,
   "metadata": {},
   "outputs": [],
   "source": [
    "with tf.name_scope('Loss'):\n",
    "    loss_op = tf.reduce_mean(tf.nn.softmax_cross_entropy_with_logits(logits=fcnn, labels=Y))\n",
    "with tf.name_scope(\"Adam\"):\n",
    "    optimizer = tf.train.AdamOptimizer(learning_rate=learning_rate)\n",
    "    train_op = optimizer.minimize(loss_op)\n",
    "with tf.name_scope('Accuracy'):\n",
    "    correct_pred =  tf.equal(tf.argmax(fcnn, 1), tf.argmax(Y, 1))\n",
    "    accuracy_op = tf.reduce_mean(tf.cast(correct_pred, tf.float32))\n",
    "\n",
    "init = tf.global_variables_initializer()\n",
    "input_image = tf.reshape(X, [-1, 28, 28, 1])\n",
    "tf.summary.image(\"input_image\", input_image)\n",
    "tf.summary.scalar('loss', loss_op)\n",
    "tf.summary.scalar('accuracy', accuracy_op)\n",
    "merge_summary_op = tf.summary.merge_all()"
   ]
  },
  {
   "cell_type": "code",
   "execution_count": 6,
   "metadata": {},
   "outputs": [
    {
     "name": "stdout",
     "output_type": "stream",
     "text": [
      "step: 0  train_acc:9.38%  test accuracy:9.57%\n",
      "step: 20  train_acc:31.25%  test accuracy:32.67%\n",
      "step: 40  train_acc:76.56%  test accuracy:71.43%\n",
      "step: 60  train_acc:81.25%  test accuracy:82.23%\n",
      "step: 80  train_acc:82.81%  test accuracy:83.03%\n",
      "step: 100  train_acc:87.50%  test accuracy:88.67%\n",
      "step: 120  train_acc:90.62%  test accuracy:88.50%\n",
      "step: 140  train_acc:89.06%  test accuracy:88.63%\n",
      "step: 160  train_acc:85.94%  test accuracy:90.40%\n",
      "step: 180  train_acc:95.31%  test accuracy:91.60%\n",
      "Training Complete!\n"
     ]
    }
   ],
   "source": [
    "with tf.Session() as sess:\n",
    "    sess.run(init)\n",
    "    train_writer = tf.summary.FileWriter(tb_logdir + '/train', graph=sess.graph)\n",
    "    test_writer = tf.summary.FileWriter(tb_logdir + '/test')\n",
    "    for step in range(total_steps):\n",
    "        batch_x, batch_y = mnist.train.next_batch(batch_size)\n",
    "        summary, train_acc, _ = sess.run([merge_summary_op, accuracy_op, train_op], feed_dict={X:batch_x, Y:batch_y})\n",
    "        train_writer.add_summary(summary, step)\n",
    "        summary, test_acc = sess.run([merge_summary_op, accuracy_op], feed_dict={X:mnist.test.images[:3000], Y:mnist.test.labels[:3000]})\n",
    "        test_writer.add_summary(summary, step)\n",
    "        if step%20 == 0:\n",
    "            print(\"step: {}  train_acc:{:.2f}%  test accuracy:{:.2f}%\".format(step, train_acc*100, test_acc*100))\n",
    "    print('Training Complete!')"
   ]
  },
  {
   "cell_type": "code",
   "execution_count": null,
   "metadata": {},
   "outputs": [],
   "source": []
  }
 ],
 "metadata": {
  "kernelspec": {
   "display_name": "Python 3",
   "language": "python",
   "name": "python3"
  },
  "language_info": {
   "codemirror_mode": {
    "name": "ipython",
    "version": 3
   },
   "file_extension": ".py",
   "mimetype": "text/x-python",
   "name": "python",
   "nbconvert_exporter": "python",
   "pygments_lexer": "ipython3",
   "version": "3.6.2"
  }
 },
 "nbformat": 4,
 "nbformat_minor": 2
}
