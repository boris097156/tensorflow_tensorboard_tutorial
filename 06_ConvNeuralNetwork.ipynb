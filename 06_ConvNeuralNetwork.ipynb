{
 "cells": [
  {
   "cell_type": "code",
   "execution_count": 1,
   "metadata": {},
   "outputs": [
    {
     "name": "stdout",
     "output_type": "stream",
     "text": [
      "Extracting /tmp/data/train-images-idx3-ubyte.gz\n",
      "Extracting /tmp/data/train-labels-idx1-ubyte.gz\n",
      "Extracting /tmp/data/t10k-images-idx3-ubyte.gz\n",
      "Extracting /tmp/data/t10k-labels-idx1-ubyte.gz\n"
     ]
    }
   ],
   "source": [
    "import tensorflow as tf\n",
    "import numpy as np\n",
    "from tensorflow.examples.tutorials.mnist import input_data\n",
    "mnist = input_data.read_data_sets(\"/tmp/data/\", one_hot=True)\n",
    "\n",
    "tb_logdir = \"/tmp/tf_tutorial/06_ConvNeuralNetwork\"\n",
    "\n",
    "#Data parameters\n",
    "image_size = 28*28\n",
    "n_class = 10"
   ]
  },
  {
   "cell_type": "code",
   "execution_count": 2,
   "metadata": {},
   "outputs": [],
   "source": [
    "#Train parameters\n",
    "learning_rate = 0.1\n",
    "total_steps = 500\n",
    "batch_size = 100\n",
    "\n",
    "X = tf.placeholder(tf.float32, [None, image_size], name='InputImage')\n",
    "Y = tf.placeholder(tf.float32, [None, n_class], name='Label')"
   ]
  },
  {
   "cell_type": "code",
   "execution_count": 3,
   "metadata": {},
   "outputs": [],
   "source": [
    "def add_conv_layer(self, n_filter, k, name):\n",
    "    self = tf.layers.conv2d(self, filters=n_filter, kernel_size=k)\n",
    "    return self\n",
    "\n",
    "def add_max_pool_layer(self, p, name):\n",
    "    self = tf.layers.max_pooling2d(self, pool_size=p, strides=1, name=name)\n",
    "    return self\n",
    "\n",
    "def add_dense_layer(self, units, name):\n",
    "    self = tf.layers.dense(self, units=units)\n",
    "    return self\n",
    "    \n",
    "def build_cnn(input_layer):\n",
    "    with tf.name_scope('CNN'):\n",
    "        net = add_conv_layer(input_layer, 64, (3,3),'Conv_1')\n",
    "        net = add_max_pool_layer(net, 3, 'Max_1')\n",
    "        net = add_conv_layer(net, 32, (3,3),'Conv_2')\n",
    "        net = add_max_pool_layer(net, 3, 'Max_2')\n",
    "    return net\n",
    "\n",
    "def flatten_layer(input_net):\n",
    "    net = tf.contrib.layers.flatten(input_net)\n",
    "    #---raw version:\n",
    "    '''\n",
    "    with tf.name_scope('Flatten'):\n",
    "        product = np.prod(np.asarray(input_net.shape.as_list()[1:]))\n",
    "        net = tf.reshape(input_net, [-1, product])\n",
    "    '''\n",
    "    return net\n",
    "        \n",
    "        \n",
    "def build_dnn(input_net):\n",
    "    with tf.name_scope('DNN'):\n",
    "        net = add_dense_layer(input_net, 32, 'Dense_1')\n",
    "        net = add_dense_layer(net, n_class, 'Dense_2')\n",
    "    return net"
   ]
  },
  {
   "cell_type": "code",
   "execution_count": 4,
   "metadata": {},
   "outputs": [],
   "source": [
    "with tf.name_scope('Model'):\n",
    "    input_layer = tf.reshape(X, [-1, 28, 28, 1])\n",
    "    cnn = build_cnn(input_layer)\n",
    "    cnn = flatten_layer(cnn)\n",
    "    fcnn = build_dnn(cnn)"
   ]
  },
  {
   "cell_type": "code",
   "execution_count": 5,
   "metadata": {},
   "outputs": [],
   "source": [
    "with tf.name_scope('Loss'):\n",
    "    loss_op = tf.reduce_mean(tf.nn.softmax_cross_entropy_with_logits(logits=fcnn, labels=Y))\n",
    "with tf.name_scope(\"Adam\"):\n",
    "    optimizer = tf.train.AdamOptimizer(learning_rate=learning_rate)\n",
    "    train_op = optimizer.minimize(loss_op)\n",
    "with tf.name_scope('Accuracy'):\n",
    "    correct_pred =  tf.equal(tf.argmax(fcnn, 1), tf.argmax(Y, 1))\n",
    "    accuracy = tf.reduce_mean(tf.cast(correct_pred, tf.float32))\n",
    "\n",
    "init = tf.global_variables_initializer()\n",
    "input_image = tf.reshape(X, [-1, 28, 28, 1])\n",
    "tf.summary.image(\"input_image\", input_image)\n",
    "tf.summary.scalar('loss', loss_op)\n",
    "tf.summary.scalar('accuracy', accuracy)\n",
    "merge_summary_op = tf.summary.merge_all()"
   ]
  },
  {
   "cell_type": "code",
   "execution_count": 6,
   "metadata": {},
   "outputs": [
    {
     "name": "stdout",
     "output_type": "stream",
     "text": [
      "step: 0  accuracy:12.00%\n",
      "step: 100  accuracy:81.00%\n",
      "step: 200  accuracy:94.00%\n",
      "step: 300  accuracy:93.00%\n",
      "step: 400  accuracy:97.00%\n",
      "Training Complete!\n"
     ]
    }
   ],
   "source": [
    "with tf.Session() as sess:\n",
    "    sess.run(init)\n",
    "    train_writer = tf.summary.FileWriter(tb_logdir + '/train', graph=sess.graph)\n",
    "    test_writer = tf.summary.FileWriter(tb_logdir + '/test')\n",
    "    for step in range(total_steps):\n",
    "        batch_x, batch_y = mnist.train.next_batch(batch_size)\n",
    "        summary, acc, _ = sess.run([merge_summary_op, accuracy, train_op], feed_dict={X:batch_x, Y:batch_y})\n",
    "        train_writer.add_summary(summary, step)\n",
    "        summary = sess.run(merge_summary_op, feed_dict={X:mnist.test.images[:3000], Y:mnist.test.labels[:3000]})\n",
    "        test_writer.add_summary(summary, step)\n",
    "        if step%100 == 0:\n",
    "            print(\"step: {}  accuracy:{:.2f}%\".format(step, acc*100))\n",
    "    print('Training Complete!')"
   ]
  },
  {
   "cell_type": "code",
   "execution_count": null,
   "metadata": {},
   "outputs": [],
   "source": []
  }
 ],
 "metadata": {
  "kernelspec": {
   "display_name": "Python 3",
   "language": "python",
   "name": "python3"
  },
  "language_info": {
   "codemirror_mode": {
    "name": "ipython",
    "version": 3
   },
   "file_extension": ".py",
   "mimetype": "text/x-python",
   "name": "python",
   "nbconvert_exporter": "python",
   "pygments_lexer": "ipython3",
   "version": "3.6.2"
  }
 },
 "nbformat": 4,
 "nbformat_minor": 2
}
